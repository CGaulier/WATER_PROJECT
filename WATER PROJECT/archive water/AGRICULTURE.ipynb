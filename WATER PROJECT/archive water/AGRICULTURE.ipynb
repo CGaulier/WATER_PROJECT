{
 "cells": [
  {
   "cell_type": "code",
   "execution_count": 1,
   "metadata": {},
   "outputs": [],
   "source": [
    "#agricultural-water-withdrawals.csv\n",
    "import numpy as np\n",
    "import pandas as pd\n",
    "import seaborn as sns\n",
    "import matplotlib.pyplot as plt\n",
    "import warnings\n",
    "warnings.filterwarnings('ignore')\n",
    "#enlevons les warnings\n",
    "%matplotlib inline"
   ]
  },
  {
   "cell_type": "code",
   "execution_count": 2,
   "metadata": {},
   "outputs": [],
   "source": [
    "df = pd.read_csv('rest/agricultural-water-withdrawals.csv')"
   ]
  },
  {
   "cell_type": "code",
   "execution_count": 3,
   "metadata": {},
   "outputs": [
    {
     "name": "stdout",
     "output_type": "stream",
     "text": [
      "<class 'pandas.core.frame.DataFrame'>\n",
      "RangeIndex: 611 entries, 0 to 610\n",
      "Data columns (total 4 columns):\n",
      "Entity                                         611 non-null object\n",
      "Code                                           611 non-null object\n",
      "Year                                           611 non-null int64\n",
      "Agricultural water withdrawal (m³ per year)    611 non-null float64\n",
      "dtypes: float64(1), int64(1), object(2)\n",
      "memory usage: 19.2+ KB\n"
     ]
    }
   ],
   "source": [
    "df.info()"
   ]
  },
  {
   "cell_type": "code",
   "execution_count": 4,
   "metadata": {},
   "outputs": [
    {
     "data": {
      "text/plain": [
       "<matplotlib.axes._subplots.AxesSubplot at 0x1d013676b38>"
      ]
     },
     "execution_count": 4,
     "metadata": {},
     "output_type": "execute_result"
    },
    {
     "data": {
      "image/png": "[encoded data removed]",
      "text/plain": [
       "<Figure size 432x288 with 1 Axes>"
      ]
     },
     "metadata": {
      "needs_background": "light"
     },
     "output_type": "display_data"
    }
   ],
   "source": [
    "df.boxplot()"
   ]
  },
  {
   "cell_type": "code",
   "execution_count": 5,
   "metadata": {},
   "outputs": [
    {
     "data": {
      "text/plain": [
       "<matplotlib.axes._subplots.AxesSubplot at 0x1d015756cc0>"
      ]
     },
     "execution_count": 5,
     "metadata": {},
     "output_type": "execute_result"
    },
    {
     "data": {
      "image/png": "[encoded data removed]",
      "text/plain": [
       "<Figure size 1800x504 with 1 Axes>"
      ]
     },
     "metadata": {
      "needs_background": "light"
     },
     "output_type": "display_data"
    }
   ],
   "source": [
    "plt.subplots(figsize=(25,7))\n",
    "sns.barplot(x='Entity',y='Agricultural water withdrawal (m³ per year)',data=df[df['Year'] == 2010].nlargest(20, 'Agricultural water withdrawal (m³ per year)'))"
   ]
  },
  {
   "cell_type": "code",
   "execution_count": 6,
   "metadata": {},
   "outputs": [
    {
     "data": {
      "text/html": [
       "<div>\n",
       "<style scoped>\n",
       "    .dataframe tbody tr th:only-of-type {\n",
       "        vertical-align: middle;\n",
       "    }\n",
       "\n",
       "    .dataframe tbody tr th {\n",
       "        vertical-align: top;\n",
       "    }\n",
       "\n",
       "    .dataframe thead th {\n",
       "        text-align: right;\n",
       "    }\n",
       "</style>\n",
       "<table border=\"1\" class=\"dataframe\">\n",
       "  <thead>\n",
       "    <tr style=\"text-align: right;\">\n",
       "      <th></th>\n",
       "      <th>Entity</th>\n",
       "      <th>Code</th>\n",
       "      <th>Year</th>\n",
       "      <th>Agricultural water withdrawal (m³ per year)</th>\n",
       "    </tr>\n",
       "  </thead>\n",
       "  <tbody>\n",
       "    <tr>\n",
       "      <th>248</th>\n",
       "      <td>India</td>\n",
       "      <td>IND</td>\n",
       "      <td>1975</td>\n",
       "      <td>3.534000e+11</td>\n",
       "    </tr>\n",
       "    <tr>\n",
       "      <th>249</th>\n",
       "      <td>India</td>\n",
       "      <td>IND</td>\n",
       "      <td>1980</td>\n",
       "      <td>4.117000e+11</td>\n",
       "    </tr>\n",
       "    <tr>\n",
       "      <th>250</th>\n",
       "      <td>India</td>\n",
       "      <td>IND</td>\n",
       "      <td>1985</td>\n",
       "      <td>4.680000e+11</td>\n",
       "    </tr>\n",
       "    <tr>\n",
       "      <th>251</th>\n",
       "      <td>India</td>\n",
       "      <td>IND</td>\n",
       "      <td>1990</td>\n",
       "      <td>4.600000e+11</td>\n",
       "    </tr>\n",
       "    <tr>\n",
       "      <th>252</th>\n",
       "      <td>India</td>\n",
       "      <td>IND</td>\n",
       "      <td>2000</td>\n",
       "      <td>5.584000e+11</td>\n",
       "    </tr>\n",
       "    <tr>\n",
       "      <th>253</th>\n",
       "      <td>India</td>\n",
       "      <td>IND</td>\n",
       "      <td>2010</td>\n",
       "      <td>6.880000e+11</td>\n",
       "    </tr>\n",
       "  </tbody>\n",
       "</table>\n",
       "</div>"
      ],
      "text/plain": [
       "    Entity Code  Year  Agricultural water withdrawal (m³ per year)\n",
       "248  India  IND  1975                                 3.534000e+11\n",
       "249  India  IND  1980                                 4.117000e+11\n",
       "250  India  IND  1985                                 4.680000e+11\n",
       "251  India  IND  1990                                 4.600000e+11\n",
       "252  India  IND  2000                                 5.584000e+11\n",
       "253  India  IND  2010                                 6.880000e+11"
      ]
     },
     "execution_count": 6,
     "metadata": {},
     "output_type": "execute_result"
    }
   ],
   "source": [
    "df[df['Entity']=='India']\n",
    "#presque 700 millions de mcube pour l'inde"
   ]
  },
  {
   "cell_type": "code",
   "execution_count": 7,
   "metadata": {},
   "outputs": [
    {
     "data": {
      "text/html": [
       "<div>\n",
       "<style scoped>\n",
       "    .dataframe tbody tr th:only-of-type {\n",
       "        vertical-align: middle;\n",
       "    }\n",
       "\n",
       "    .dataframe tbody tr th {\n",
       "        vertical-align: top;\n",
       "    }\n",
       "\n",
       "    .dataframe thead th {\n",
       "        text-align: right;\n",
       "    }\n",
       "</style>\n",
       "<table border=\"1\" class=\"dataframe\">\n",
       "  <thead>\n",
       "    <tr style=\"text-align: right;\">\n",
       "      <th></th>\n",
       "      <th>Entity</th>\n",
       "      <th>Code</th>\n",
       "      <th>Year</th>\n",
       "      <th>Agricultural water withdrawal (m³ per year)</th>\n",
       "    </tr>\n",
       "  </thead>\n",
       "  <tbody>\n",
       "    <tr>\n",
       "      <th>105</th>\n",
       "      <td>China</td>\n",
       "      <td>CHN</td>\n",
       "      <td>1980</td>\n",
       "      <td>3.912000e+11</td>\n",
       "    </tr>\n",
       "    <tr>\n",
       "      <th>106</th>\n",
       "      <td>China</td>\n",
       "      <td>CHN</td>\n",
       "      <td>1985</td>\n",
       "      <td>4.152000e+11</td>\n",
       "    </tr>\n",
       "    <tr>\n",
       "      <th>107</th>\n",
       "      <td>China</td>\n",
       "      <td>CHN</td>\n",
       "      <td>1990</td>\n",
       "      <td>4.150000e+11</td>\n",
       "    </tr>\n",
       "    <tr>\n",
       "      <th>108</th>\n",
       "      <td>China</td>\n",
       "      <td>CHN</td>\n",
       "      <td>1995</td>\n",
       "      <td>4.077000e+11</td>\n",
       "    </tr>\n",
       "    <tr>\n",
       "      <th>109</th>\n",
       "      <td>China</td>\n",
       "      <td>CHN</td>\n",
       "      <td>2000</td>\n",
       "      <td>3.784000e+11</td>\n",
       "    </tr>\n",
       "    <tr>\n",
       "      <th>110</th>\n",
       "      <td>China</td>\n",
       "      <td>CHN</td>\n",
       "      <td>2005</td>\n",
       "      <td>3.600000e+11</td>\n",
       "    </tr>\n",
       "    <tr>\n",
       "      <th>111</th>\n",
       "      <td>China</td>\n",
       "      <td>CHN</td>\n",
       "      <td>2010</td>\n",
       "      <td>3.880000e+11</td>\n",
       "    </tr>\n",
       "    <tr>\n",
       "      <th>112</th>\n",
       "      <td>China</td>\n",
       "      <td>CHN</td>\n",
       "      <td>2015</td>\n",
       "      <td>3.852000e+11</td>\n",
       "    </tr>\n",
       "  </tbody>\n",
       "</table>\n",
       "</div>"
      ],
      "text/plain": [
       "    Entity Code  Year  Agricultural water withdrawal (m³ per year)\n",
       "105  China  CHN  1980                                 3.912000e+11\n",
       "106  China  CHN  1985                                 4.152000e+11\n",
       "107  China  CHN  1990                                 4.150000e+11\n",
       "108  China  CHN  1995                                 4.077000e+11\n",
       "109  China  CHN  2000                                 3.784000e+11\n",
       "110  China  CHN  2005                                 3.600000e+11\n",
       "111  China  CHN  2010                                 3.880000e+11\n",
       "112  China  CHN  2015                                 3.852000e+11"
      ]
     },
     "execution_count": 7,
     "metadata": {},
     "output_type": "execute_result"
    }
   ],
   "source": [
    "df[df['Entity']=='China']"
   ]
  },
  {
   "cell_type": "code",
   "execution_count": 8,
   "metadata": {},
   "outputs": [
    {
     "data": {
      "text/html": [
       "<div>\n",
       "<style scoped>\n",
       "    .dataframe tbody tr th:only-of-type {\n",
       "        vertical-align: middle;\n",
       "    }\n",
       "\n",
       "    .dataframe tbody tr th {\n",
       "        vertical-align: top;\n",
       "    }\n",
       "\n",
       "    .dataframe thead th {\n",
       "        text-align: right;\n",
       "    }\n",
       "</style>\n",
       "<table border=\"1\" class=\"dataframe\">\n",
       "  <thead>\n",
       "    <tr style=\"text-align: right;\">\n",
       "      <th></th>\n",
       "      <th>Entity</th>\n",
       "      <th>Code</th>\n",
       "      <th>Year</th>\n",
       "      <th>Agricultural water withdrawal (m³ per year)</th>\n",
       "    </tr>\n",
       "  </thead>\n",
       "  <tbody>\n",
       "    <tr>\n",
       "      <th>582</th>\n",
       "      <td>United States</td>\n",
       "      <td>USA</td>\n",
       "      <td>1970</td>\n",
       "      <td>1.001000e+11</td>\n",
       "    </tr>\n",
       "    <tr>\n",
       "      <th>583</th>\n",
       "      <td>United States</td>\n",
       "      <td>USA</td>\n",
       "      <td>1975</td>\n",
       "      <td>1.065000e+11</td>\n",
       "    </tr>\n",
       "    <tr>\n",
       "      <th>584</th>\n",
       "      <td>United States</td>\n",
       "      <td>USA</td>\n",
       "      <td>1980</td>\n",
       "      <td>1.171000e+11</td>\n",
       "    </tr>\n",
       "    <tr>\n",
       "      <th>585</th>\n",
       "      <td>United States</td>\n",
       "      <td>USA</td>\n",
       "      <td>1990</td>\n",
       "      <td>1.947000e+11</td>\n",
       "    </tr>\n",
       "    <tr>\n",
       "      <th>586</th>\n",
       "      <td>United States</td>\n",
       "      <td>USA</td>\n",
       "      <td>2000</td>\n",
       "      <td>1.965000e+11</td>\n",
       "    </tr>\n",
       "    <tr>\n",
       "      <th>587</th>\n",
       "      <td>United States</td>\n",
       "      <td>USA</td>\n",
       "      <td>2005</td>\n",
       "      <td>1.919000e+11</td>\n",
       "    </tr>\n",
       "    <tr>\n",
       "      <th>588</th>\n",
       "      <td>United States</td>\n",
       "      <td>USA</td>\n",
       "      <td>2010</td>\n",
       "      <td>1.751000e+11</td>\n",
       "    </tr>\n",
       "  </tbody>\n",
       "</table>\n",
       "</div>"
      ],
      "text/plain": [
       "            Entity Code  Year  Agricultural water withdrawal (m³ per year)\n",
       "582  United States  USA  1970                                 1.001000e+11\n",
       "583  United States  USA  1975                                 1.065000e+11\n",
       "584  United States  USA  1980                                 1.171000e+11\n",
       "585  United States  USA  1990                                 1.947000e+11\n",
       "586  United States  USA  2000                                 1.965000e+11\n",
       "587  United States  USA  2005                                 1.919000e+11\n",
       "588  United States  USA  2010                                 1.751000e+11"
      ]
     },
     "execution_count": 8,
     "metadata": {},
     "output_type": "execute_result"
    }
   ],
   "source": [
    "df[df['Entity']=='United States']"
   ]
  },
  {
   "cell_type": "code",
   "execution_count": 9,
   "metadata": {},
   "outputs": [
    {
     "data": {
      "text/plain": [
       "<matplotlib.axes._subplots.AxesSubplot at 0x1d016831400>"
      ]
     },
     "execution_count": 9,
     "metadata": {},
     "output_type": "execute_result"
    },
    {
     "data": {
      "image/png": "[encoded data removed]",
      "text/plain": [
       "<Figure size 1296x504 with 1 Axes>"
      ]
     },
     "metadata": {
      "needs_background": "light"
     },
     "output_type": "display_data"
    }
   ],
   "source": [
    "plt.subplots(figsize=(18,7))\n",
    "sns.lineplot(x='Year',y='Agricultural water withdrawal (m³ per year)',hue='Entity',data=df[(df.Entity == 'United States') | (df.Entity == 'China') | (df.Entity == 'Palestine') | (df.Entity =='Nigeria')|(df.Entity =='India') | (df.Entity =='France')] )"
   ]
  },
  {
   "cell_type": "code",
   "execution_count": 10,
   "metadata": {},
   "outputs": [
    {
     "name": "stdout",
     "output_type": "stream",
     "text": [
      "<class 'pandas.core.frame.DataFrame'>\n",
      "RangeIndex: 783 entries, 0 to 782\n",
      "Data columns (total 4 columns):\n",
      "Entity                                                                                       783 non-null object\n",
      "Code                                                                                         783 non-null object\n",
      "Year                                                                                         783 non-null int64\n",
      "Agricultural irrigated land (% of total agricultural land) (% of total agricultural land)    783 non-null float64\n",
      "dtypes: float64(1), int64(1), object(2)\n",
      "memory usage: 24.5+ KB\n"
     ]
    }
   ],
   "source": [
    "df = pd.read_csv('rest/agricultural-land-irrigation.csv')\n",
    "df.info()"
   ]
  },
  {
   "cell_type": "code",
   "execution_count": 12,
   "metadata": {},
   "outputs": [
    {
     "data": {
      "text/plain": [
       "<matplotlib.axes._subplots.AxesSubplot at 0x1d013675d30>"
      ]
     },
     "execution_count": 12,
     "metadata": {},
     "output_type": "execute_result"
    },
    {
     "data": {
      "image/png": "[encoded data removed]",
      "text/plain": [
       "<Figure size 1800x504 with 1 Axes>"
      ]
     },
     "metadata": {
      "needs_background": "light"
     },
     "output_type": "display_data"
    }
   ],
   "source": [
    "plt.subplots(figsize=(25,7))\n",
    "sns.barplot(x='Entity',y='Agricultural irrigated land (% of total agricultural land) (% of total agricultural land)',data=df[df['Year'] == 2012].nsmallest(20, 'Agricultural irrigated land (% of total agricultural land) (% of total agricultural land)'))\n",
    "\n",
    "\n"
   ]
  },
  {
   "cell_type": "raw",
   "metadata": {},
   "source": [
    "On voit que certains pays utilise des quantité astronomiques d'eaux pour l'agriculture, et ceux par rapport au nombre de terre irriguée \n",
    "35% pour Inde (plus grande valeur) et presque 0 le Botwana\n"
   ]
  }
 ],
 "metadata": {
  "kernelspec": {
   "display_name": "Python 3",
   "language": "python",
   "name": "python3"
  },
  "language_info": {
   "codemirror_mode": {
    "name": "ipython",
    "version": 3
   },
   "file_extension": ".py",
   "mimetype": "text/x-python",
   "name": "python",
   "nbconvert_exporter": "python",
   "pygments_lexer": "ipython3",
   "version": "3.6.6"
  }
 },
 "nbformat": 4,
 "nbformat_minor": 2
}
